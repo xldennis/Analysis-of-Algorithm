{
 "cells": [
  {
   "cell_type": "markdown",
   "metadata": {},
   "source": [
    "__34.5_1.__The subgraph-isomorphism problem takes two undirected graphs G1 and G2, and it asks whether G1 is isomorphic to a subgraph of G2. Show that the subgraph- isomorphism problem is NP-complete."
   ]
  },
  {
   "cell_type": "markdown",
   "metadata": {},
   "source": [
    "__Solution__:a decision problem is NP-complete when it is both in NP and NP-hard\n",
    "\n",
    "NP is the set of decision problems where the \"yes\"-instances can be accepted in polynomial time but you cannot solve it.\n",
    "\n",
    "A problem H is NP-hard is when for any problem L in NP, there is a polynomial-time reduction from L to H"
   ]
  },
  {
   "cell_type": "markdown",
   "metadata": {},
   "source": [
    "To show it is in NP, we make a function mapping nodes of G1 to nodes of subgraph of G2. $$(G_1 = (V_1, E_1), \\quad G_2 = (V_2, E_2), \\quad \\phi: V_1 \\rightarrow V_2)$$\n",
    "We can write a nested loop to make sure function is one-to-one mapping. So it's in at most $O(n^2)$ times"
   ]
  },
  {
   "cell_type": "markdown",
   "metadata": {},
   "source": [
    "To prove correctness of the reduction, first assume that G contains a clique of size k. Then, those k nodes\n",
    "of G = G2 are isomorphic to G1, because G1 is a clique of size k.\n",
    "Conversely, if G2 contains a subgraph isomorphic to G1, because G1 is a k-clique, G2 must contain a\n",
    "k-clique. Thus, (G, k) is a “Yes” instance."
   ]
  },
  {
   "cell_type": "markdown",
   "metadata": {},
   "source": [
    "To show NP-hardness, we show that an instance of Clique consisting of graph G and a certain number k, i.e., $G = (V, E), \\ k$. Define $G_1$ to be a clique on k vertices, and $G_2 = G$.\n",
    "$G_1$ is a clique of size k, and it is isomorphic to k nodes in G = $G_2$ since G is in CLIQUE. Therefore, we can definitely check this problem (i.e., yes or no) in NP times. "
   ]
  },
  {
   "cell_type": "code",
   "execution_count": null,
   "metadata": {
    "collapsed": true
   },
   "outputs": [],
   "source": []
  },
  {
   "cell_type": "markdown",
   "metadata": {},
   "source": [
    "__34.5-2__, Let 2-CNF-SAT be the set of satisfiable boolean formulas in CNF with exactly 2\n",
    "literals per clause. Show that 2-CNF-SAT $\\in$ P. Make your algorithm as efficient as\n",
    "possible."
   ]
  },
  {
   "cell_type": "markdown",
   "metadata": {},
   "source": [
    "Conjunctive normal form (CNF): a conjunction of clauses, where each clause is a disjunction of literals\n",
    "1. $\\neg B \\wedge \\neg C$ but not $\\neg (B \\vee C)$\n",
    "2. $A \\wedge (B \\vee D) \\wedge (B \\vee E)$ but not $A \\wedge (B \\vee (D \\wedge E))$ \n",
    "\n",
    "\n",
    "Boolean satisfiability problem (SAT): given a formula, to check whether it is satisfiable. It's NP but we can reduce it to P if it's CNF with exactly 2 literals per clause. \n",
    "\n",
    "Since every clause has exactly two literals, we see every 2-literal clause $a \\vee b$ as the two implications $\\neg b \\rightarrow a$ and $\\neg a \\rightarrow b$\n",
    "\n",
    "Construct a directed graph G = (V, E) as follows:\n",
    "- Let the vertices be all the variables such that $v_i$ corresponds to $x_i$ and $v_i'$ corresponds to the complement $\\neg x_i$\n",
    "- Let all the edges be the two implications, $\\neg b \\rightarrow a$ and $\\neg a \\rightarrow b$\n",
    "\n"
   ]
  },
  {
   "cell_type": "markdown",
   "metadata": {},
   "source": []
  },
  {
   "cell_type": "code",
   "execution_count": null,
   "metadata": {
    "collapsed": true
   },
   "outputs": [],
   "source": []
  },
  {
   "cell_type": "markdown",
   "metadata": {},
   "source": [
    "__34-1-(c,d)__ Independent set: An independent set of a graph $G=(V, E)$ is a subset $V' \\subset V$ of vertices such that each edge in E is incident on at most one vertex in V'. The independent-set problem is to find a maximum-size independent set in G.\n",
    "\n",
    "Although the independent-set decision problem is NP-complete, certain special cases are polynomial-time solvable.\n",
    "\n",
    "c. Give an efficient algorithm to solve the independent-set problem when each vertex in G has degree 2. Analyze the running time, and prove that your algorithm works correctly.\n",
    "\n",
    "d. Give an efficient algorithm to solve the independent-set problem when G is bipartite. Analyze the running time, and prove that your algorithm works correctly. (Hint: Use the results of Section 26.3.)"
   ]
  },
  {
   "cell_type": "markdown",
   "metadata": {},
   "source": [
    "C. __Solution__: Noted G is independent set and each edge is incident on at most one vertex [|V| = |E| in this case] $\\Rightarrow$ G is simply a cycle. An independent set of maximum size can be obtained by starting at any vertex and picking each alternate vertex on the cycle until the size of indendent set is $\\frac{|V|}{2}$ and the running time to this algorithm is clearly O(|V|)."
   ]
  },
  {
   "cell_type": "markdown",
   "metadata": {},
   "source": [
    "D. __Solution__: refer to figure 26.8. If G is bipart, then the independent-set is the side with the larger number of vertices. And thus the running time will be O(|V|). "
   ]
  },
  {
   "cell_type": "code",
   "execution_count": null,
   "metadata": {
    "collapsed": true
   },
   "outputs": [],
   "source": []
  }
 ],
 "metadata": {
  "kernelspec": {
   "display_name": "Python 2",
   "language": "python",
   "name": "python2"
  },
  "language_info": {
   "codemirror_mode": {
    "name": "ipython",
    "version": 2
   },
   "file_extension": ".py",
   "mimetype": "text/x-python",
   "name": "python",
   "nbconvert_exporter": "python",
   "pygments_lexer": "ipython2",
   "version": "2.7.10"
  }
 },
 "nbformat": 4,
 "nbformat_minor": 0
}
