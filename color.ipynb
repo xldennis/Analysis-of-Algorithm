{
 "cells": [
  {
   "cell_type": "code",
   "execution_count": 1,
   "metadata": {
    "collapsed": false
   },
   "outputs": [
    {
     "name": "stdout",
     "output_type": "stream",
     "text": [
      "Populating the interactive namespace from numpy and matplotlib\n"
     ]
    }
   ],
   "source": [
    "%pylab inline"
   ]
  },
  {
   "cell_type": "code",
   "execution_count": 2,
   "metadata": {
    "collapsed": true
   },
   "outputs": [],
   "source": [
    "from pulp import *"
   ]
  },
  {
   "cell_type": "code",
   "execution_count": 3,
   "metadata": {
    "collapsed": true
   },
   "outputs": [],
   "source": [
    "nc = 6 #max number of color\n",
    "n = 11 #number of nodes\n",
    "V = range(1,n+1) #set of nodes\n",
    "color = range(1,nc+1) #set of color"
   ]
  },
  {
   "cell_type": "markdown",
   "metadata": {},
   "source": [
    "![](http://snag.gy/qCNdq.jpg)"
   ]
  },
  {
   "cell_type": "code",
   "execution_count": 4,
   "metadata": {
    "collapsed": true
   },
   "outputs": [],
   "source": [
    "E =   [[1, 2],\n",
    "       [1, 5],\n",
    "       [2, 4],\n",
    "       [2, 5],\n",
    "       [3, 6],\n",
    "       [3, 8],\n",
    "       [3, 7],\n",
    "       [3, 4],\n",
    "       [4, 5],\n",
    "       [4, 6],\n",
    "       [4, 7],\n",
    "       [5, 7],\n",
    "       [6, 8],\n",
    "       [7, 8],\n",
    "       [7, 9],\n",
    "       [8, 10],\n",
    "       [10, 11]]\n",
    "# vertically ordered nodes len(E) == 17"
   ]
  },
  {
   "cell_type": "code",
   "execution_count": 5,
   "metadata": {
    "collapsed": false
   },
   "outputs": [],
   "source": [
    "# declare variables\n",
    "# x[i,c] = 1 means that node i is assigned color c\n",
    "x = LpVariable.dicts(\"x\",(V,color), lowBound=0,upBound=1,cat=LpInteger)\n",
    "all_possible_x = [(s,t) for s in V for t in color]"
   ]
  },
  {
   "cell_type": "code",
   "execution_count": 6,
   "metadata": {
    "collapsed": false
   },
   "outputs": [],
   "source": [
    "# y[c] = 1 means that color c is used, i.e. assigned to some node\n",
    "y = LpVariable.dicts(\"y\",color,0,1,LpInteger)"
   ]
  },
  {
   "cell_type": "code",
   "execution_count": 7,
   "metadata": {
    "collapsed": false
   },
   "outputs": [],
   "source": [
    "prob = LpProblem(\"minimum number of colors used\",LpMinimize)\n",
    "prob += lpSum([y[c] for c in color])"
   ]
  },
  {
   "cell_type": "code",
   "execution_count": 8,
   "metadata": {
    "collapsed": false
   },
   "outputs": [],
   "source": [
    "# each node must be assigned exactly one color\n",
    "for i in V:\n",
    "    prob += lpSum([x[i][c] for c in color]) == 1, \"Node %s has been assigned one color\"%i"
   ]
  },
  {
   "cell_type": "code",
   "execution_count": 9,
   "metadata": {
    "collapsed": false
   },
   "outputs": [],
   "source": [
    "# adjacent nodes cannot be assigned the same color\n",
    "# because the index start with 0, so I have to do i-1\n",
    "for (i,j) in E:\n",
    "    for c in color:\n",
    "        prob += x[i][c] + x[j][c] <= 1,\"color %s isn't used in adjacent node %s and %s\" %(c,i,j)"
   ]
  },
  {
   "cell_type": "code",
   "execution_count": 10,
   "metadata": {
    "collapsed": false
   },
   "outputs": [],
   "source": [
    "# make sure color is used \n",
    "for c in color:\n",
    "    for i in V:\n",
    "        prob += x[i][c]<= y[c]"
   ]
  },
  {
   "cell_type": "code",
   "execution_count": 11,
   "metadata": {
    "collapsed": false
   },
   "outputs": [],
   "source": [
    "prob.writeLP(\"color_min_problem.lp\")"
   ]
  },
  {
   "cell_type": "code",
   "execution_count": 12,
   "metadata": {
    "collapsed": false
   },
   "outputs": [
    {
     "name": "stdout",
     "output_type": "stream",
     "text": [
      "Minimum number of color used = 3.0\n"
     ]
    }
   ],
   "source": [
    "prob.solve()\n",
    "print \"Minimum number of color used = %s\" %(value(prob.objective))"
   ]
  },
  {
   "cell_type": "code",
   "execution_count": 13,
   "metadata": {
    "collapsed": false
   },
   "outputs": [
    {
     "name": "stdout",
     "output_type": "stream",
     "text": [
      "node 1 use color 2\n",
      "node 2 use color 5\n",
      "node 3 use color 6\n",
      "node 4 use color 2\n",
      "node 5 use color 6\n",
      "node 6 use color 5\n",
      "node 7 use color 5\n",
      "node 8 use color 2\n",
      "node 9 use color 6\n",
      "node 10 use color 6\n",
      "node 11 use color 2\n"
     ]
    }
   ],
   "source": [
    "for v in V:\n",
    "    print 'node %s' % v, 'use color',\n",
    "    for c in color:\n",
    "        if int(x[v][c].varValue) ==1:\n",
    "            print c\n"
   ]
  },
  {
   "cell_type": "code",
   "execution_count": null,
   "metadata": {
    "collapsed": true
   },
   "outputs": [],
   "source": []
  },
  {
   "cell_type": "code",
   "execution_count": null,
   "metadata": {
    "collapsed": true
   },
   "outputs": [],
   "source": []
  },
  {
   "cell_type": "code",
   "execution_count": 28,
   "metadata": {
    "collapsed": false
   },
   "outputs": [
    {
     "name": "stdout",
     "output_type": "stream",
     "text": [
      "Status: Optimal\n",
      "p1 = 0.4 \tReduced Cost = -0.0\n",
      "p2 = 0.4 \tReduced Cost = -0.0\n",
      "p3 = 0.2 \tReduced Cost = -0.0\n",
      "v = 0.0 \tReduced Cost = -0.0\n",
      "objective= 0.0\n",
      "\n",
      "Sensitivity Analysis\n",
      "Constraint\t\tShadow Price\tSlack\n",
      "c1 : -p2 + 2*p3 + v <= 0 \t0.4 \t\t-0.0\n",
      "c2 : p1 - 2*p3 + v <= 0 \t0.4 \t\t-0.0\n",
      "c3 : -2*p1 + 2*p2 + v <= 0 \t0.2 \t\t-0.0\n",
      "c4 : p1 + p2 + p3 = 1 \t-0.0 \t\t-0.0\n"
     ]
    }
   ],
   "source": [
    "\n",
    "\n",
    "# A new LP problem\n",
    "prob = LpProblem(\"dual\", LpMaximize)\n",
    "\n",
    "p1 = LpVariable(\"p1\", 0)\n",
    "p2 = LpVariable(\"p2\", 0)\n",
    "p3 = LpVariable(\"p3\", 0)\n",
    "v = LpVariable(\"v\")\n",
    "\n",
    "\n",
    "prob += v, \"obj\"\n",
    "\n",
    "prob += -p2+2*p3+v<=0, \"c1\"\n",
    "prob += p1-2*p3+v<=0,\"c2\"\n",
    "prob += -2*p1+2*p2+v<=0,\"c3\"\n",
    "prob += p1+p2+p3==1,\"c4\"\n",
    "\n",
    "prob.solve()\n",
    "\n",
    "print \"Status:\", LpStatus[prob.status]\n",
    "\n",
    "for v in prob.variables():\n",
    "\tprint v.name, \"=\", v.varValue, \"\\tReduced Cost =\", v.dj\n",
    "\n",
    "print \"objective=\", value(prob.objective)\n",
    "\n",
    "print \"\\nSensitivity Analysis\\nConstraint\\t\\tShadow Price\\tSlack\"\n",
    "for name, c in prob.constraints.items():\n",
    "\tprint name, \":\", c, \"\\t\", c.pi, \"\\t\\t\", c.slack"
   ]
  },
  {
   "cell_type": "code",
   "execution_count": 23,
   "metadata": {
    "collapsed": false
   },
   "outputs": [
    {
     "data": {
      "text/plain": [
       "<bound method LpProblem.variables of dual:\n",
       "MAXIMIZE\n",
       "2*x1 + 3*x2 + -1*x4 + -2\n",
       "SUBJECT TO\n",
       "x5: - 9 x1 - 7 x2 + x4 >= -6\n",
       "\n",
       "x6: 3 x1 - 9 x2 + x4 >= -2\n",
       "\n",
       "x3: - x1 - x2 >= -1\n",
       "\n",
       "VARIABLES\n",
       "x1 Continuous\n",
       "x2 Continuous\n",
       "x4 Continuous\n",
       ">"
      ]
     },
     "execution_count": 23,
     "metadata": {},
     "output_type": "execute_result"
    }
   ],
   "source": []
  },
  {
   "cell_type": "code",
   "execution_count": null,
   "metadata": {
    "collapsed": true
   },
   "outputs": [],
   "source": []
  }
 ],
 "metadata": {
  "kernelspec": {
   "display_name": "Python 2",
   "language": "python",
   "name": "python2"
  },
  "language_info": {
   "codemirror_mode": {
    "name": "ipython",
    "version": 2
   },
   "file_extension": ".py",
   "mimetype": "text/x-python",
   "name": "python",
   "nbconvert_exporter": "python",
   "pygments_lexer": "ipython2",
   "version": "2.7.10"
  }
 },
 "nbformat": 4,
 "nbformat_minor": 0
}
