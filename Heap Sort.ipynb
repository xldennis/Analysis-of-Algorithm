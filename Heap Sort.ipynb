{
 "cells": [
  {
   "cell_type": "code",
   "execution_count": 120,
   "metadata": {
    "collapsed": true
   },
   "outputs": [],
   "source": [
    "import math\n",
    "from cStringIO import StringIO\n",
    "\n",
    "\n",
    "def show_tree(tree, total_width=36, fill=' '):\n",
    "    \"\"\"Pretty-print a tree.\"\"\"\n",
    "\n",
    "    output = StringIO()\n",
    "    last_row = -1\n",
    "    for i, n in enumerate(tree):\n",
    "        if i:\n",
    "            row = int(math.floor(math.log(i + 1, 2)))\n",
    "        else:\n",
    "            row = 0\n",
    "        if row != last_row:\n",
    "            output.write('\\n')\n",
    "        columns = 2 ** row\n",
    "        col_width = int(math.floor((total_width * 1.0) / columns))\n",
    "        output.write(str(n).center(col_width, fill))\n",
    "        last_row = row\n",
    "    print output.getvalue()\n",
    "    print '-' * total_width\n",
    "    print\n",
    "    return"
   ]
  },
  {
   "cell_type": "code",
   "execution_count": 251,
   "metadata": {
    "collapsed": true
   },
   "outputs": [],
   "source": [
    "class SENTINEL(object):\n",
    "    pass\n",
    "\n",
    "class Heap(object):\n",
    "    def __init__(self, an_array):\n",
    "        self._data = an_array"
   ]
  },
  {
   "cell_type": "code",
   "execution_count": 252,
   "metadata": {
    "collapsed": true
   },
   "outputs": [],
   "source": [
    "def parent(index):\n",
    "    return index >> 1\n",
    "def left(index):\n",
    "    return 2 * index\n",
    "def right(index):\n",
    "    return 2 * index + 1"
   ]
  },
  {
   "cell_type": "code",
   "execution_count": 253,
   "metadata": {
    "collapsed": false
   },
   "outputs": [],
   "source": [
    "def build_heap(_array):\n",
    "    for i in range((len(_array) - 1) >> 1, 0, -1):\n",
    "        heapify(_array, i)"
   ]
  },
  {
   "cell_type": "code",
   "execution_count": 273,
   "metadata": {
    "collapsed": false
   },
   "outputs": [],
   "source": [
    "def heapify(_array, index=1, heap_size=SENTINEL):\n",
    "    if heap_size == SENTINEL:\n",
    "        heap_size = len(_array)\n",
    "    a_child_is_bigger = True\n",
    "    while a_child_is_bigger:\n",
    "        largest = index\n",
    "        left_pos, right_pos = left(index), right(index)\n",
    "        if left_pos < heap_size and _array[left_pos] > _array[index]:\n",
    "            largest = left_pos\n",
    "        if right_pos < heap_size and _array[right_pos] > _array[largest]:\n",
    "            largest = right_pos\n",
    "        if largest == index:\n",
    "            a_child_is_bigger = False\n",
    "        else:\n",
    "            _array[index], _array[largest] = _array[largest], _array[index]\n",
    "            index = largest"
   ]
  },
  {
   "cell_type": "code",
   "execution_count": 274,
   "metadata": {
    "collapsed": true
   },
   "outputs": [],
   "source": [
    "def heapsort(_array):\n",
    "    build_heap(_array)\n",
    "    heap_size = len(_array) - 1\n",
    "    root = 1\n",
    "    for i in range(heap_size, root, -1):\n",
    "        _array[root], _array[i] = _array[i], _array[root]\n",
    "        heap_size -= 1\n",
    "        heapify(_array, root, heap_size)"
   ]
  },
  {
   "cell_type": "code",
   "execution_count": 275,
   "metadata": {
    "collapsed": true
   },
   "outputs": [],
   "source": [
    "def extract_max(_array, heap_size=SENTINEL):\n",
    "    if heap_size == SENTINEL:\n",
    "        heap_size = len(_array)\n",
    "    if heap_size < 1:\n",
    "        raise Exception(\"Underflow error\")\n",
    "    top = 1\n",
    "    lowest = heap_size - 1\n",
    "    _max, _array[top] = _array[1], _array[lowest]\n",
    "    heapify(_array, top, heap_size)\n",
    "    return _max"
   ]
  },
  {
   "cell_type": "code",
   "execution_count": 276,
   "metadata": {
    "collapsed": true
   },
   "outputs": [],
   "source": [
    "def heap_insert(_arr, value):\n",
    "    root = 1\n",
    "    index = len(_arr)\n",
    "    parent_index = parent(index)\n",
    "    must_swap_with_top = index > root and _arr[parent_index] < value\n",
    "    while must_swap_with_top:\n",
    "        _arr[index] = _arr[parent_index]\n",
    "        index = parent_index\n",
    "        parent_index = parent(index)\n",
    "        must_swap_with_top = index > root and _arr[parent_index] < value\n",
    "    _arr[index] = value"
   ]
  },
  {
   "cell_type": "code",
   "execution_count": null,
   "metadata": {
    "collapsed": false
   },
   "outputs": [],
   "source": []
  },
  {
   "cell_type": "code",
   "execution_count": 277,
   "metadata": {
    "collapsed": true
   },
   "outputs": [],
   "source": [
    "def print_list(_list):\n",
    "    print ' '.join(str(x) for x in _list)"
   ]
  },
  {
   "cell_type": "code",
   "execution_count": 278,
   "metadata": {
    "collapsed": false
   },
   "outputs": [],
   "source": [
    "with open(\"/Users/dennis/Downloads/input.txt\") as testfile:\n",
    "    N = int(next(testfile))\n",
    "    data = [next(testfile).rstrip() for x in xrange(N)]"
   ]
  },
  {
   "cell_type": "code",
   "execution_count": 294,
   "metadata": {
    "collapsed": false
   },
   "outputs": [],
   "source": [
    "orig = data"
   ]
  },
  {
   "cell_type": "code",
   "execution_count": 297,
   "metadata": {
    "collapsed": false
   },
   "outputs": [
    {
     "data": {
      "text/plain": [
       "['a',\n",
       " 'z',\n",
       " 'x',\n",
       " 'y',\n",
       " 't',\n",
       " 'w',\n",
       " 'n',\n",
       " 'p',\n",
       " 'r',\n",
       " 's',\n",
       " 'v',\n",
       " 'l',\n",
       " 'm',\n",
       " 'b',\n",
       " 'o',\n",
       " 'h',\n",
       " 'q',\n",
       " 'i',\n",
       " 'e',\n",
       " 'j',\n",
       " 'u',\n",
       " 'k',\n",
       " 'f',\n",
       " 'c',\n",
       " 'g',\n",
       " 'd']"
      ]
     },
     "execution_count": 297,
     "metadata": {},
     "output_type": "execute_result"
    }
   ],
   "source": [
    "build_heap(orig)\n",
    "orig"
   ]
  },
  {
   "cell_type": "code",
   "execution_count": 293,
   "metadata": {
    "collapsed": false
   },
   "outputs": [
    {
     "data": {
      "text/plain": [
       "['a',\n",
       " 'z',\n",
       " 'x',\n",
       " 'y',\n",
       " 't',\n",
       " 'w',\n",
       " 'n',\n",
       " 'p',\n",
       " 'r',\n",
       " 's',\n",
       " 'v',\n",
       " 'l',\n",
       " 'm',\n",
       " 'b',\n",
       " 'o',\n",
       " 'h',\n",
       " 'q',\n",
       " 'i',\n",
       " 'e',\n",
       " 'j',\n",
       " 'u',\n",
       " 'k',\n",
       " 'f',\n",
       " 'c',\n",
       " 'g',\n",
       " 'd']"
      ]
     },
     "execution_count": 293,
     "metadata": {},
     "output_type": "execute_result"
    }
   ],
   "source": [
    "x = [i for i in orig]\n",
    "build_heap(x)\n",
    "x"
   ]
  },
  {
   "cell_type": "code",
   "execution_count": null,
   "metadata": {
    "collapsed": true
   },
   "outputs": [],
   "source": []
  },
  {
   "cell_type": "code",
   "execution_count": null,
   "metadata": {
    "collapsed": true
   },
   "outputs": [],
   "source": []
  },
  {
   "cell_type": "code",
   "execution_count": null,
   "metadata": {
    "collapsed": true
   },
   "outputs": [],
   "source": []
  },
  {
   "cell_type": "code",
   "execution_count": null,
   "metadata": {
    "collapsed": true
   },
   "outputs": [],
   "source": []
  },
  {
   "cell_type": "code",
   "execution_count": null,
   "metadata": {
    "collapsed": true
   },
   "outputs": [],
   "source": []
  },
  {
   "cell_type": "markdown",
   "metadata": {},
   "source": [
    "before extracting the max, the h is: zvyquxmjprtnwelagdocihsbkf\n",
    "\n",
    "the Extract-Max method return: z\n",
    "\n",
    "after extracting the max, the h is: yvxquwmjprtnfelagdocihsbk\n",
    "\n",
    "the sorted array from max to min is the following: yxwvutsrqponmlkjihgfedcba\n",
    "\n",
    "after extracting all the maxs, the h is: "
   ]
  },
  {
   "cell_type": "code",
   "execution_count": null,
   "metadata": {
    "collapsed": true
   },
   "outputs": [],
   "source": []
  }
 ],
 "metadata": {
  "kernelspec": {
   "display_name": "Python 2",
   "language": "python",
   "name": "python2"
  },
  "language_info": {
   "codemirror_mode": {
    "name": "ipython",
    "version": 2
   },
   "file_extension": ".py",
   "mimetype": "text/x-python",
   "name": "python",
   "nbconvert_exporter": "python",
   "pygments_lexer": "ipython2",
   "version": "2.7.10"
  }
 },
 "nbformat": 4,
 "nbformat_minor": 0
}
