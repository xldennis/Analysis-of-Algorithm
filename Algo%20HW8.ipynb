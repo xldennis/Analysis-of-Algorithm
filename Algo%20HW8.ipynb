{
 "metadata": {
  "name": "",
  "signature": "sha256:a35fb2879facd1d7ca28a40dbe30f4c66296349034dc0c386b71978ded2da9f6"
 },
 "nbformat": 3,
 "nbformat_minor": 0,
 "worksheets": [
  {
   "cells": [
    {
     "cell_type": "markdown",
     "metadata": {},
     "source": [
      "<font size=5>32.1-2</font>"
     ]
    },
    {
     "cell_type": "markdown",
     "metadata": {},
     "source": [
      "<b><font size=3>Design</font></b>:<br />\n",
      "Algorithm($T$, $P$):<br />\n",
      "&emsp;&emsp;$n := T.length$<br />\n",
      "&emsp;&emsp;$m := P.length$<br />\n",
      "&emsp;&emsp;$i := 1$<br />\n",
      "&emsp;&emsp;$k := 1$<br />\n",
      "&emsp;&emsp;while $i+k-1 \\leq n$:<br />\n",
      "&emsp;&emsp;&emsp;&emsp;if $T[i+k-1]$ != $P[k]$:<br />\n",
      "&emsp;&emsp;&emsp;&emsp;&emsp;&emsp;$i := i + max(k-1, 1)$<br />\n",
      "&emsp;&emsp;&emsp;&emsp;&emsp;&emsp;$k := 1$<br />\n",
      "&emsp;&emsp;&emsp;&emsp;else:<br />\n",
      "&emsp;&emsp;&emsp;&emsp;&emsp;&emsp;$k := k + 1$<br />\n",
      "\n",
      "&emsp;&emsp;&emsp;&emsp;if $k$ > $m$:<br />\n",
      "&emsp;&emsp;&emsp;&emsp;&emsp;&emsp;print( 'Pattern occurs with shift ' $i-1$ )<br />\n",
      "&emsp;&emsp;&emsp;&emsp;&emsp;&emsp;$i := i + m$<br />\n",
      "&emsp;&emsp;&emsp;&emsp;&emsp;&emsp;$k := 1$<br />"
     ]
    },
    {
     "cell_type": "markdown",
     "metadata": {},
     "source": [
      "<b><font size=3>Correctness</font></b>:<br />\n",
      "Variable $i$ is an index variable for $T$, and $k$ is an index variable for $P$.<br />\n",
      "Observe that the index variable $i$ steps forward with increment $max(k-1, 1)$ for $k \\leq m$. We may consider two cases:<br />\n",
      "1. $k-1 > 0$:<br />\n",
      "The subarray $T[i..i+k-2]$ is not empty, so by our hypothesis, $P[1..k-1]$ matches $T[i..i+k-2]$ implies that $T[j] \\neq P[1]$ for all $i < j < i+k-1$. Hence, we can move index $i$ with value $k-1$, reset index $k$ and continue.\n",
      "2. $k-1$ == $0$:<br />\n",
      "If this case occurs, then we must have $k$ == 1 $\\implies$ $T[i] \\neq P[1]$. So we can increase index $i$ by $1$, reset index $k$ and continue.\n",
      "\n",
      "Since index $k$ denotes the progress of pattern matching. Therefore, if $k$ goes across $m$, it means we have checked through all elements in $P$ and no mismatch occurs, then a pattern in $T$ is found, and by our hypothesis, we can move index $i$ with value of pattern length $m$ to continue pattern matching process."
     ]
    },
    {
     "cell_type": "markdown",
     "metadata": {},
     "source": [
      "<b><font size=3>Analysis</font></b>:<br />\n",
      "Consider the value of $i+k-1$. In the start of some iteration of the while-loop, we may concern three cases for value of $k$:<br />\n",
      "1. $k$ == $1$:<br />\n",
      "No doubt, $i+k-1$ will rise by $1$ for all possible result of the first conditional statement.\n",
      "2. $2 \\leq k < m$:<br />\n",
      "If the first conditional statement fails, then $i+k-1$ will rise by $1$. Otherwise, $n+k-1$ will stay on the same value and reset $k$ to $1$, then it guarantees that $i+k-1$ will be added by $1$ in the next iteration.<br />\n",
      "3. $k$ == $m$:<br />\n",
      "If the first conditional statement fails, then $i+k-1$ will rise by $1$, and the second conditional statement will reset $k$ to $1$ but keep $i+k-1$ same as the result of the first conditional statement.\n",
      "\n",
      "By our discussion above, $i+k-1$ must be increased by at least $1$ in any $2$ adjacent iterations. Thus, the boundary condition $i+k-1 \\leq n$ guarantees iteration times will never exceed $2n$. $\\implies$ The time complexity is $O(n)$."
     ]
    },
    {
     "cell_type": "markdown",
     "metadata": {},
     "source": [
      "<br /><font size=5>32.1-4</font>"
     ]
    },
    {
     "cell_type": "markdown",
     "metadata": {},
     "source": [
      "We may assume that:\n",
      "1. Gap characters will never be the first or the last elements.\n",
      "2. Gap characters will never be put adjacently.\n",
      "\n",
      "\n",
      "<b><font size=3>Algorithm</font></b>:<br />\n",
      "Gap-Matcher($T[1 ... n]$, $P[1 ... m]$):<br />\n",
      "&emsp;&emsp;let $g :=$ number of gap characters in $P$<br />\n",
      "&emsp;&emsp;partition $P$ into $g+1$ substrings $P_1, ... , P_{g+1}$ by gap characters. i.e. $P = P_1 \\diamond P_2 \\diamond ... \\diamond P_g \\diamond P_{g+1}$<br />\n",
      "\n",
      "&emsp;&emsp;$P_0$ := '' // empty string<br />\n",
      "&emsp;&emsp;$s := 1$<br />\n",
      "&emsp;&emsp;for $i$ from $1$ to $g+1$:<br />\n",
      "&emsp;&emsp;&emsp;&emsp;do KMP preprocessing for $P_i$<br />\n",
      "&emsp;&emsp;&emsp;&emsp;use KMP algorithm to find the first occurence of $P_i$ in $T[s+P_{i-1}.length ... n]$ and then assign the shift to $s$; otherwise, assign $s := 0$<br />\n",
      "&emsp;&emsp;&emsp;&emsp;if $s$ == $0$:<br />\n",
      "&emsp;&emsp;&emsp;&emsp;&emsp;&emsp;return False<br />\n",
      "\n",
      "&emsp;&emsp;return True<br />\n",
      "\n"
     ]
    },
    {
     "cell_type": "markdown",
     "metadata": {},
     "source": [
      "<b><font size=3>Analysis</font></b>:<br />\n",
      "There are three non-constant time part:\n",
      "* Partition operation takes $O(m)$ time.\n",
      "* All KMP preprocessing parts take $\\Theta(m)$ time in total, since $\\Sigma_{k=1}^{g+1}{P_i.length} \\leq m$ and KMP preprocessing in each iteration takes $\\Theta(P_i.length)$ time.\n",
      "* KMP algorithm: Observe that, the ranges which KMP algorithm scanned in each iteration are not overlapped with each other.<br /> Therefore, KMP algorithm parts in all iterations take $\\Theta(n)$ time.\n",
      "\n",
      "Hence, the time complexity is $O(m) + \\Theta(m) + \\Theta(n) = \\Theta(m+n)$."
     ]
    },
    {
     "cell_type": "markdown",
     "metadata": {},
     "source": [
      "<br /><font size=5>32.4-7</font>"
     ]
    },
    {
     "cell_type": "markdown",
     "metadata": {},
     "source": [
      "<b><font size=3>Algorithm</font></b>:<br />\n",
      "Determine-Cyclic-Rotation($T[1 ... n]$, $T'[1 ... n]$):<br />\n",
      "&emsp;&emsp;let $T^2[1 ... 2n]$ be a new string<br />\n",
      "&emsp;&emsp;fill up $T^2$ with $2$ times of $T$<br />\n",
      "&emsp;&emsp;do KMP preprocessing for pattern $T'$<br />\n",
      "&emsp;&emsp;use KMP algorithm to find pattern $T'$ occurs in $T^2$ or not, and return the result<br />"
     ]
    },
    {
     "cell_type": "markdown",
     "metadata": {},
     "source": [
      "<b><font size=3>Correctness</font></b>:<br />\n",
      "Our algorithm returns True $\\iff$ there exists $m$ with $0 \\leq s < n-1$ s.t.<br />\n",
      "$T^2[1+s ... n]$ == $T[1+s ... n]$ == $T'[1 ... n-s]$ and $T^2[n+1 ... n+s]$ == $T[1 ... s]$ == $T'[n-s+1 ... n]$."
     ]
    },
    {
     "cell_type": "markdown",
     "metadata": {},
     "source": [
      "<b><font size=3>Analysis</font></b>:<br />\n",
      "1. Construction of $T^2$ takes $O(2n) = O(n)$ time.\n",
      "2. Initialization of $T^2$ takes $O(2n) = O(n)$ time.\n",
      "3. KMP preprocessing for pattern $T'$ takes $\\Theta(n)$ time.\n",
      "4. KMP algorithm takes $\\Theta(2n) = \\Theta(n)$ time.\n",
      "\n",
      "Hence, our algorithm takes $O(n) + O(n) + \\Theta(n) + \\Theta(n) = \\Theta(n)$ time."
     ]
    },
    {
     "cell_type": "markdown",
     "metadata": {},
     "source": [
      "<br /><font size=5>21.2-2</font>"
     ]
    },
    {
     "cell_type": "markdown",
     "metadata": {},
     "source": [
      "[$x_1$, $x_2$, $x_3$, $x_4$, $x_5$, $x_6$, $x_7$, $x_8$, $x_9$, $x_{10}$, $x_{11}$, $x_{12}$, $x_{13}$, $x_{14}$, $x_{15}$, $x_{16}$]<br />\n",
      "FIND-SET($x_2$) : $x_1$<br />\n",
      "FIND-SET($x_9$) : $x_1$<br />"
     ]
    },
    {
     "cell_type": "markdown",
     "metadata": {},
     "source": [
      "<br /><font size=5>21.3-3</font>"
     ]
    },
    {
     "cell_type": "markdown",
     "metadata": {},
     "source": [
      "Let $x_1$, ... , $x_n$ be $n$ distinct elements and $h = \\lfloor \\lg n \\rfloor$.<br />\n",
      "\n",
      "for $i$ from $1$ to $n$:<br />\n",
      "&emsp;&emsp;MAKE-SET($x_i$)<br />\n",
      "for $j$ from $1$ to $h$:<br />\n",
      "&emsp;&emsp;for $k$ from $1$ to $2^h-2^j+1$ by $2^j$:<br />\n",
      "&emsp;&emsp;&emsp;&emsp;UNION($x_{k + 2^{j-1}}$, $x_k$)<br />\n",
      "for $i$ from $1$ to $n + 2^h + 1$:<br />\n",
      "&emsp;&emsp;&emsp;&emsp;FIND-SET($x_{2^h}$)<br />\n",
      "\n",
      "$\\because$ The nested for-loop unites $n$ sets $[x_1]$, ... , $[x_{2^h}]$ to one set $[x_1, ... , x_{2^h}]$. <br />\n",
      "$\\therefore$ We take $2^h - 1$ UNION operations in total.<br />\n",
      "Put $m = n + (2^h-1) + (n + 2^h + 1) = 2n + 2 \\cdot 2^{h}$.<br />\n",
      "Then we have a sequence of $m$ operations which consists with $n$ MAKE-SET, $\\lfloor \\lg n \\rfloor - 1$ UNION and $ n + \\lfloor \\lg n \\rfloor + 1$ FIND-SET operations.\n",
      "\n",
      "Next, let's consider the outer for-loop of the nested for-loop. Observe that we unite all pairs of set, ($x_{k + 2^{j-1}}$, $x_k$), it's with same the rook rank, at the end of each iteration. Since we put the root of second set upon the root of first set during UNION operation of the same root rank, therefore FIND-SET($x_{2^h}$) will go through $x_{2^{h-1}}$, ... , $x_{2^1}$, $x_{2^0}$. $\\implies$ It takes $\\Omega(h) = \\Omega(\\lfloor \\lg n \\rfloor)$ time.\n",
      "\n",
      "Hence our procedures takes $\\Omega((n + \\lfloor \\lg n \\rfloor + 1)\\lfloor \\lg n \\rfloor) \\geq \\Omega(\\frac{m}{2} \\lg n) = \\Omega(m \\lg n)$."
     ]
    },
    {
     "cell_type": "markdown",
     "metadata": {},
     "source": [
      "<br />"
     ]
    }
   ],
   "metadata": {}
  }
 ]
}
