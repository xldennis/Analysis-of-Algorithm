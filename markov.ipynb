{
 "cells": [
  {
   "cell_type": "code",
   "execution_count": 50,
   "metadata": {
    "collapsed": false
   },
   "outputs": [
    {
     "name": "stdout",
     "output_type": "stream",
     "text": [
      "Populating the interactive namespace from numpy and matplotlib\n"
     ]
    },
    {
     "name": "stderr",
     "output_type": "stream",
     "text": [
      "WARNING: pylab import has clobbered these variables: ['permutation', 'log']\n",
      "`%matplotlib` prevents importing * from pylab and numpy\n"
     ]
    }
   ],
   "source": [
    "%pylab inline"
   ]
  },
  {
   "cell_type": "code",
   "execution_count": 51,
   "metadata": {
    "collapsed": true
   },
   "outputs": [],
   "source": [
    "from pulp import *"
   ]
  },
  {
   "cell_type": "markdown",
   "metadata": {},
   "source": [
    "![](http://snag.gy/JWfaX.jpg)"
   ]
  },
  {
   "cell_type": "code",
   "execution_count": 95,
   "metadata": {
    "collapsed": false
   },
   "outputs": [],
   "source": [
    "# List of all the nodes\n",
    "Nodes = [\"good shape\",\n",
    "         \"deteriorating\",\n",
    "         \"broken\"]\n",
    "Action = ['maintain','ignore']\n",
    "rewards = [   \n",
    "         #maintain ignore\n",
    "         [1,2],#good\n",
    "         [1,2],#deteriorate\n",
    "         [-1,0]#broken\n",
    "         ]\n",
    "r = rewards = makeDict([Nodes, Action],rewards,0)\n",
    "p = probability = {# start     action      end                  probability\n",
    "         (\"good shape\", \"maintain\", \"good shape\"):       1,\n",
    "         (\"good shape\", \"ignore\",   \"good shape\"):       0.5, \n",
    "         (\"good shape\", \"ignore\",   \"deteriorating\"):    0.5,      \n",
    "         (\"deteriorating\", \"maintain\", \"good shape\"):    0.9,    \n",
    "         (\"deteriorating\", \"maintain\", \"deteriorating\"): 0.1,    \n",
    "         (\"deteriorating\", \"ignore\", \"deteriorating\"):   0.5,    \n",
    "         (\"deteriorating\", \"ignore\", \"broken\"):          0.5, \n",
    "         (\"broken\", \"maintain\", \"good shape\"):           0.2,  \n",
    "         (\"broken\", \"maintain\", \"broken\"):               0.8,\n",
    "         (\"broken\", \"ignore\", \"broken\"):                 1}"
   ]
  },
  {
   "cell_type": "code",
   "execution_count": 96,
   "metadata": {
    "collapsed": false
   },
   "outputs": [],
   "source": [
    "# declare variables\n",
    "# Q(node, action)\n",
    "Q = LpVariable.dicts(\"Q\",(Nodes,Action), lowBound=0)"
   ]
  },
  {
   "cell_type": "code",
   "execution_count": 97,
   "metadata": {
    "collapsed": false
   },
   "outputs": [],
   "source": [
    "prob = LpProblem(\"maximize the long-run expected total reward\",LpMaximize)\n",
    "prob += lpSum([r[v][a]*Q[v][a] for v in Nodes for a in Action])"
   ]
  },
  {
   "cell_type": "code",
   "execution_count": 98,
   "metadata": {
    "collapsed": false
   },
   "outputs": [
    {
     "data": {
      "text/plain": [
       "1"
      ]
     },
     "execution_count": 98,
     "metadata": {},
     "output_type": "execute_result"
    }
   ],
   "source": [
    "p[(\"broken\", \"ignore\", \"broken\")]"
   ]
  },
  {
   "cell_type": "code",
   "execution_count": 99,
   "metadata": {
    "collapsed": false
   },
   "outputs": [],
   "source": [
    "#constraint 1:\n",
    "prob += lpSum([Q[v][a] for v in Nodes for a in Action]) == 1\n",
    "\n",
    "#constraint 2:\n",
    "for r in Nodes:\n",
    "    prob += lpSum([Q[r][a] for a in Action]) - lpSum([p[x,a,v]*Q[v][a] \\\n",
    "                                                      for (x,a,v) in p.keys() if x ==r]) ==0    "
   ]
  },
  {
   "cell_type": "code",
   "execution_count": 100,
   "metadata": {
    "collapsed": false
   },
   "outputs": [],
   "source": [
    "prob.writeLP(\"markov decision chain.lp\")"
   ]
  },
  {
   "cell_type": "code",
   "execution_count": 101,
   "metadata": {
    "collapsed": false
   },
   "outputs": [
    {
     "name": "stdout",
     "output_type": "stream",
     "text": [
      "the max long-run expected total reward is 3571.4286\n"
     ]
    }
   ],
   "source": [
    "prob.solve()\n",
    "print \"the max long-run expected total reward is %s\" %(value(prob.objective))"
   ]
  },
  {
   "cell_type": "code",
   "execution_count": 102,
   "metadata": {
    "collapsed": false
   },
   "outputs": [
    {
     "name": "stdout",
     "output_type": "stream",
     "text": [
      "node( good shape ) of action( maintain ) has value of 0.0\n",
      "node( good shape ) of action( ignore ) has value of 0.0\n",
      "node( deteriorating ) of action( maintain ) has value of 0.35714286\n",
      "node( deteriorating ) of action( ignore ) has value of 0.0\n",
      "node( broken ) of action( maintain ) has value of 0.0\n",
      "node( broken ) of action( ignore ) has value of 0.64285714\n"
     ]
    }
   ],
   "source": [
    "for v in Nodes:\n",
    "    for a in Action:\n",
    "        print 'node(', v,') of action(', a, ') has value of', Q[v][a].varValue"
   ]
  },
  {
   "cell_type": "code",
   "execution_count": null,
   "metadata": {
    "collapsed": true
   },
   "outputs": [],
   "source": []
  },
  {
   "cell_type": "code",
   "execution_count": 103,
   "metadata": {
    "collapsed": false
   },
   "outputs": [
    {
     "data": {
      "text/plain": [
       "maximize the long-run expected total reward:\n",
       "MAXIMIZE\n",
       "-1*Q_broken_maintain + 2*Q_deteriorating_ignore + 10000*Q_deteriorating_maintain + -1*Q_good_shape_ignore + 5*Q_good_shape_maintain + 0\n",
       "SUBJECT TO\n",
       "_C1: Q_broken_ignore + Q_broken_maintain + Q_deteriorating_ignore\n",
       " + Q_deteriorating_maintain + Q_good_shape_ignore + Q_good_shape_maintain = 1\n",
       "\n",
       "_C2: - 0.5 Q_deteriorating_ignore + 0.5 Q_good_shape_ignore\n",
       " + 0 Q_good_shape_maintain = 0\n",
       "\n",
       "_C3: - 0.5 Q_broken_ignore + 0.5 Q_deteriorating_ignore\n",
       " + 0.9 Q_deteriorating_maintain - 0.9 Q_good_shape_maintain = 0\n",
       "\n",
       "_C4: 0 Q_broken_ignore + 0.2 Q_broken_maintain - 0.2 Q_good_shape_maintain = 0\n",
       "\n",
       "VARIABLES\n",
       "Q_broken_ignore Continuous\n",
       "Q_broken_maintain Continuous\n",
       "Q_deteriorating_ignore Continuous\n",
       "Q_deteriorating_maintain Continuous\n",
       "Q_good_shape_ignore Continuous\n",
       "Q_good_shape_maintain Continuous"
      ]
     },
     "execution_count": 103,
     "metadata": {},
     "output_type": "execute_result"
    }
   ],
   "source": [
    "prob"
   ]
  },
  {
   "cell_type": "code",
   "execution_count": null,
   "metadata": {
    "collapsed": true
   },
   "outputs": [],
   "source": []
  },
  {
   "cell_type": "code",
   "execution_count": null,
   "metadata": {
    "collapsed": true
   },
   "outputs": [],
   "source": []
  },
  {
   "cell_type": "code",
   "execution_count": null,
   "metadata": {
    "collapsed": true
   },
   "outputs": [],
   "source": []
  },
  {
   "cell_type": "code",
   "execution_count": null,
   "metadata": {
    "collapsed": true
   },
   "outputs": [],
   "source": []
  }
 ],
 "metadata": {
  "kernelspec": {
   "display_name": "Python 2",
   "language": "python",
   "name": "python2"
  },
  "language_info": {
   "codemirror_mode": {
    "name": "ipython",
    "version": 2
   },
   "file_extension": ".py",
   "mimetype": "text/x-python",
   "name": "python",
   "nbconvert_exporter": "python",
   "pygments_lexer": "ipython2",
   "version": "2.7.10"
  }
 },
 "nbformat": 4,
 "nbformat_minor": 0
}
