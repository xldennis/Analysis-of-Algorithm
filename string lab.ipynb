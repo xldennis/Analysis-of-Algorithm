{
 "cells": [
  {
   "cell_type": "code",
   "execution_count": 10,
   "metadata": {
    "collapsed": false
   },
   "outputs": [],
   "source": [
    "def string_match(*values):\n",
    "#    print_it = True\n",
    "    if (len(values)==0):\n",
    "        string = raw_input('type in a string of characters: ')\n",
    "    else:\n",
    "        string = \"%s\" %values\n",
    "    string_list = list(string)\n",
    "    output = []\n",
    "    n = len(string_list)\n",
    "    for i in range(1,n+1):\n",
    "        temp = string[:i] #the first i substring\n",
    "        output.append(match(temp))\n",
    "#     if (len(values)!=0):\n",
    "#         print_it = False\n",
    "#         if raw_input('print it out? [y] or [n]') == 'y':\n",
    "#             print_it = True\n",
    "#     if print_it:\n",
    "#         int_print(output)\n",
    "    print output\n",
    "    return output\n",
    "    \n",
    "def match(s):\n",
    "    n = len(s)\n",
    "    count = 0\n",
    "    for i in range(n-1,0,-1):\n",
    "        if (s[:i]== s[-i:]):\n",
    "            count = i\n",
    "            break\n",
    "    return count\n",
    "\n",
    "def int_print(int_array):\n",
    "    print ' '.join(str(x) for x in int_array)"
   ]
  },
  {
   "cell_type": "code",
   "execution_count": 13,
   "metadata": {
    "collapsed": false
   },
   "outputs": [
    {
     "name": "stdout",
     "output_type": "stream",
     "text": [
      "type in a string of characters: aaa\n"
     ]
    },
    {
     "data": {
      "text/plain": [
       "[0, 1, 2]"
      ]
     },
     "execution_count": 13,
     "metadata": {},
     "output_type": "execute_result"
    }
   ],
   "source": [
    "string_match()"
   ]
  },
  {
   "cell_type": "code",
   "execution_count": 14,
   "metadata": {
    "collapsed": false
   },
   "outputs": [
    {
     "data": {
      "text/plain": [
       "[0, 1, 2, 3, 4, 5, 0, 1, 2, 3, 4, 5, 6, 6, 7, 8, 9, 0]"
      ]
     },
     "execution_count": 14,
     "metadata": {},
     "output_type": "execute_result"
    }
   ],
   "source": [
    "# string_match(\"aaaaaabaaaaaaabaab\")"
   ]
  },
  {
   "cell_type": "code",
   "execution_count": 5,
   "metadata": {
    "collapsed": false
   },
   "outputs": [
    {
     "name": "stdout",
     "output_type": "stream",
     "text": [
      "type in a string of characters: aaaaaabaaaaaaabaab\n"
     ]
    },
    {
     "data": {
      "text/plain": [
       "[0, 1, 2, 3, 4, 5, 0, 1, 2, 3, 4, 5, 6, 6, 7, 8, 9, 0]"
      ]
     },
     "execution_count": 5,
     "metadata": {},
     "output_type": "execute_result"
    }
   ],
   "source": [
    "# string_match()"
   ]
  },
  {
   "cell_type": "code",
   "execution_count": 46,
   "metadata": {
    "collapsed": false
   },
   "outputs": [
    {
     "data": {
      "text/plain": [
       "[0, 1, 2, 3, 4, 5, 6, 0]"
      ]
     },
     "execution_count": 46,
     "metadata": {},
     "output_type": "execute_result"
    }
   ],
   "source": [
    "# string_match(\"aaaaaaab\")"
   ]
  },
  {
   "cell_type": "code",
   "execution_count": null,
   "metadata": {
    "collapsed": true
   },
   "outputs": [],
   "source": []
  },
  {
   "cell_type": "markdown",
   "metadata": {},
   "source": [
    "__Implement KMP__"
   ]
  },
  {
   "cell_type": "code",
   "execution_count": 15,
   "metadata": {
    "collapsed": false
   },
   "outputs": [],
   "source": [
    "\n",
    "def kmp():\n",
    "    text = raw_input('Enter Text: '); text = list(text)\n",
    "    pattern = raw_input(\"Enter Pattern: \")\n",
    "    prefix = string_match(pattern)\n",
    "    pattern = list(pattern)\n",
    "#    print prefix\n",
    "    M = len(pattern)\n",
    "    N = len(text)\n",
    "    i = 0 # index for txt[]\n",
    "    j = 0 # index for pat[]\n",
    "    k = set() #marker\n",
    "    while i<N:\n",
    "        if pattern[j] == text[i]:\n",
    "#            print \"string match, i: %s, j: %s, k: %s\" %(i,j,k)\n",
    "            i+=1\n",
    "            j+=1\n",
    "        if j ==M:\n",
    "            print \"Pattern found starting at shift %s\" %(i-j)\n",
    "            k.add(i-j)\n",
    "            \n",
    "#           print \"finish match, i: %s, j: %s, k: %s\" %(i,j,k)\n",
    "            j = prefix[j-1]\n",
    "#            print \"after finish, i: %s, j: %s, k: %s\" %(i,j,k)\n",
    "        elif i < N and pattern[j] != text[i]:\n",
    "            if j != 0:\n",
    "#                print \"mismatch, i: %s, j: %s, k: %s\" %(i,j,k)\n",
    "                j = prefix[j-1]\n",
    "#                print \"after mismatch, i: %s, j: %s, k: %s\" %(i,j,k)\n",
    "            else: #\n",
    "#                print \"mismatch, i: %s, j: %s, k: %s\" %(i,j,k)\n",
    "#                print \"after mismatch, i: %s, j: %s, k: %s\" %(i,j,k)\n",
    "                i+=1  \n",
    "    print_color(''.join(text),k,M)"
   ]
  },
  {
   "cell_type": "code",
   "execution_count": 16,
   "metadata": {
    "collapsed": false
   },
   "outputs": [],
   "source": [
    "def print_color (string, marker, length):\n",
    "    from termcolor import colored\n",
    "    i = 0\n",
    "    while i < len(string):\n",
    "        if (i in marker):\n",
    "            print colored(string[i:i+length],'green'),\n",
    "            i = i + length\n",
    "        else:\n",
    "            print string[i],\n",
    "            i+=1 "
   ]
  },
  {
   "cell_type": "code",
   "execution_count": 17,
   "metadata": {
    "collapsed": false
   },
   "outputs": [
    {
     "name": "stdout",
     "output_type": "stream",
     "text": [
      "Enter Text: aaabaaaaabaaabaaaaabaaaaba\n",
      "Enter Pattern: aaaba\n",
      "Pattern found starting at shift 0\n",
      "Pattern found starting at shift 6\n",
      "Pattern found starting at shift 10\n",
      "Pattern found starting at shift 16\n",
      "Pattern found starting at shift 21\n",
      "\u001b[32maaaba\u001b[0m a \u001b[32maaaba\u001b[0m a a b a a \u001b[32maaaba\u001b[0m \u001b[32maaaba\u001b[0m\n"
     ]
    }
   ],
   "source": [
    "kmp()"
   ]
  },
  {
   "cell_type": "code",
   "execution_count": 31,
   "metadata": {
    "collapsed": false
   },
   "outputs": [
    {
     "name": "stdout",
     "output_type": "stream",
     "text": [
      "Enter Text: aaaa\n",
      "Enter Pattern: a\n",
      "Pattern found starting at shift 0\n",
      "Pattern found starting at shift 1\n",
      "Pattern found starting at shift 2\n",
      "Pattern found starting at shift 3\n",
      "\u001b[32ma\u001b[0m \u001b[32ma\u001b[0m \u001b[32ma\u001b[0m \u001b[32ma\u001b[0m\n"
     ]
    }
   ],
   "source": [
    "#kmp()"
   ]
  },
  {
   "cell_type": "code",
   "execution_count": 91,
   "metadata": {
    "collapsed": false
   },
   "outputs": [
    {
     "name": "stdout",
     "output_type": "stream",
     "text": [
      "Enter Text: a\n",
      "Enter Pattern: a\n",
      "[0]\n",
      "Pattern found starting at shift 0\n"
     ]
    }
   ],
   "source": [
    "#kmp()"
   ]
  },
  {
   "cell_type": "code",
   "execution_count": 92,
   "metadata": {
    "collapsed": false
   },
   "outputs": [
    {
     "name": "stdout",
     "output_type": "stream",
     "text": [
      "Enter Text: aa\n",
      "Enter Pattern: a\n",
      "[0]\n",
      "Pattern found starting at shift 0\n",
      "Pattern found starting at shift 1\n"
     ]
    }
   ],
   "source": [
    "#kmp()"
   ]
  },
  {
   "cell_type": "code",
   "execution_count": 32,
   "metadata": {
    "collapsed": false
   },
   "outputs": [
    {
     "name": "stdout",
     "output_type": "stream",
     "text": [
      "Enter Text: aaabaaaaabaaabaaaaabaaaaba\n",
      "Enter Pattern: aaaba\n",
      "Pattern found starting at shift 0\n",
      "Pattern found starting at shift 6\n",
      "Pattern found starting at shift 10\n",
      "Pattern found starting at shift 16\n",
      "Pattern found starting at shift 21\n",
      "\u001b[32maaaba\u001b[0m a \u001b[32maaaba\u001b[0m a a b a a \u001b[32maaaba\u001b[0m \u001b[32maaaba\u001b[0m\n"
     ]
    }
   ],
   "source": [
    "#kmp()"
   ]
  },
  {
   "cell_type": "code",
   "execution_count": null,
   "metadata": {
    "collapsed": true
   },
   "outputs": [],
   "source": []
  }
 ],
 "metadata": {
  "kernelspec": {
   "display_name": "Python 2",
   "language": "python",
   "name": "python2"
  },
  "language_info": {
   "codemirror_mode": {
    "name": "ipython",
    "version": 2
   },
   "file_extension": ".py",
   "mimetype": "text/x-python",
   "name": "python",
   "nbconvert_exporter": "python",
   "pygments_lexer": "ipython2",
   "version": "2.7.10"
  }
 },
 "nbformat": 4,
 "nbformat_minor": 0
}
