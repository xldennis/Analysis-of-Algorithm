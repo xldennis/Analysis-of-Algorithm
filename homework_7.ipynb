{
 "cells": [
  {
   "cell_type": "code",
   "execution_count": 2,
   "metadata": {
    "collapsed": false
   },
   "outputs": [
    {
     "name": "stdout",
     "output_type": "stream",
     "text": [
      "Populating the interactive namespace from numpy and matplotlib\n"
     ]
    }
   ],
   "source": [
    "%pylab inline\n",
    "from pulp import *"
   ]
  },
  {
   "cell_type": "markdown",
   "metadata": {
    "collapsed": true
   },
   "source": [
    "__1. Formulate and solve with Lindo the critical path method handout attached__\n",
    "\n"
   ]
  },
  {
   "cell_type": "markdown",
   "metadata": {},
   "source": [
    "![](http://snag.gy/AEUdG.jpg)"
   ]
  },
  {
   "cell_type": "markdown",
   "metadata": {},
   "source": [
    "Definie the variable $t_i$ to be the mimimum time spent at node $i$ where all activities preceding node $i$ have been completed\n",
    "\n",
    "The critical path is FD(8) --> CS(5) --> 1B(3) --> 2FL(3) --> 2I(5) --> 2F(10) is the critical path"
   ]
  },
  {
   "cell_type": "code",
   "execution_count": 3,
   "metadata": {
    "collapsed": false
   },
   "outputs": [
    {
     "name": "stdout",
     "output_type": "stream",
     "text": [
      "Minimum time usd to finish constructing is 34.0\n",
      "t_1B  =  13.0\n",
      "t_1F  =  17.0\n",
      "t_1I  =  13.0\n",
      "t_2B  =  19.0\n",
      "t_2F  =  24.0\n",
      "t_2FL  =  16.0\n",
      "t_2I  =  19.0\n",
      "t_CS  =  8.0\n",
      "t_FD  =  0.0\n",
      "t_RF  =  23.0\n",
      "Status: Optimal\n"
     ]
    },
    {
     "data": {
      "text/plain": [
       "minimum time usd to finish constructing:\n",
       "MINIMIZE\n",
       "1*t_2F + 10\n",
       "SUBJECT TO\n",
       "_C1: t_FD = 0\n",
       "\n",
       "Node_FD_to_Node_CS_work_at_least_8: t_CS - t_FD >= 8\n",
       "\n",
       "Node_CS_to_Node_1I_work_at_least_5: t_1I - t_CS >= 5\n",
       "\n",
       "Node_CS_to_Node_1B_work_at_least_5: t_1B - t_CS >= 5\n",
       "\n",
       "Node_1B_to_Node_1F_work_at_least_3: - t_1B + t_1F >= 3\n",
       "\n",
       "Node_1I_to_Node_1F_work_at_least_4: t_1F - t_1I >= 4\n",
       "\n",
       "Node_1B_to_Node_2FL_work_at_least_3: - t_1B + t_2FL >= 3\n",
       "\n",
       "Node_2FL_to_Node_2I_work_at_least_3: - t_2FL + t_2I >= 3\n",
       "\n",
       "Node_2FL_to_Node_2B_work_at_least_3: t_2B - t_2FL >= 3\n",
       "\n",
       "Node_2B_to_Node_2F_work_at_least_4: - t_2B + t_2F >= 4\n",
       "\n",
       "Node_2B_to_Node_RF_work_at_least_4: - t_2B + t_RF >= 4\n",
       "\n",
       "Node_2I_to_Node_2F_work_at_least_5: t_2F - t_2I >= 5\n",
       "\n",
       "Node_RF_to_Node_2F_work_at_least_1: t_2F - t_RF >= 1\n",
       "\n",
       "VARIABLES\n",
       "t_1B Continuous\n",
       "t_1F Continuous\n",
       "t_1I Continuous\n",
       "t_2B Continuous\n",
       "t_2F Continuous\n",
       "t_2FL Continuous\n",
       "t_2I Continuous\n",
       "t_CS Continuous\n",
       "t_FD Continuous\n",
       "t_RF Continuous"
      ]
     },
     "execution_count": 3,
     "metadata": {},
     "output_type": "execute_result"
    }
   ],
   "source": [
    "Nodes = [\"FD\",\"CS\",\"1I\",\"1B\",\"1F\",\"2FL\",\"2I\",\"2B\",\"2F\",\"RF\"]\n",
    "Cost = [8,5,4,3,12,3,5,4,10,1]\n",
    "c = makeDict([Nodes],Cost,0)\n",
    "E =   [[\"FD\",\"CS\"],\n",
    "       [\"CS\",\"1I\"],\n",
    "       [\"CS\",\"1B\"],\n",
    "       [\"1B\",\"1F\"],\n",
    "       [\"1I\",\"1F\"],\n",
    "       [\"1B\",\"2FL\"],\n",
    "       [\"2FL\",\"2I\"],\n",
    "       [\"2FL\",\"2B\"],\n",
    "       [\"2B\",\"2F\"],\n",
    "       [\"2B\",\"RF\"],\n",
    "       [\"2I\",\"2F\"],\n",
    "       [\"RF\",\"2F\"]]\n",
    "# declare variables\n",
    "t = LpVariable.dicts(\"t\",Nodes, lowBound=0)\n",
    "prob = LpProblem(\"minimum time usd to finish constructing\",LpMinimize)\n",
    "prob += t['2F']+10\n",
    "# decalre constraints\n",
    "prob += t[\"FD\"] == 0\n",
    "for (i,j) in E:\n",
    "    prob += t[j] - t[i] >= c[i], \"Node %s to Node %s work at least %s\"%(i,j,c[i])\n",
    "prob.solve()\n",
    "print \"Minimum time usd to finish constructing is %s\" %(value(prob.objective))\n",
    "for v in prob.variables():\n",
    "    print v.name, \" = \", v.varValue\n",
    "print \"Status:\", LpStatus[prob.status]\n",
    "prob"
   ]
  },
  {
   "cell_type": "code",
   "execution_count": null,
   "metadata": {
    "collapsed": false
   },
   "outputs": [],
   "source": []
  },
  {
   "cell_type": "code",
   "execution_count": null,
   "metadata": {
    "collapsed": true
   },
   "outputs": [],
   "source": []
  },
  {
   "cell_type": "markdown",
   "metadata": {
    "collapsed": true
   },
   "source": [
    "__2. Formulate and solve with Lindo the shortest path for the on pg 648 using s as the start node, x as end node__\n",
    "\n"
   ]
  },
  {
   "cell_type": "markdown",
   "metadata": {},
   "source": [
    "shortest path cost: 9; the shortest path from s to x is through t"
   ]
  },
  {
   "cell_type": "code",
   "execution_count": 4,
   "metadata": {
    "collapsed": false
   },
   "outputs": [
    {
     "name": "stdout",
     "output_type": "stream",
     "text": [
      "Shortest Path Total Cost =  9.0\n",
      "the path from s to x is \n",
      "('t', 'x')\n",
      "('s', 't')\n",
      "Status: Optimal\n"
     ]
    },
    {
     "data": {
      "text/plain": [
       "shortest path problem:\n",
       "MINIMIZE\n",
       "3*edges_('s',_'t') + 5*edges_('s',_'y') + 6*edges_('t',_'x') + 2*edges_('t',_'y') + 2*edges_('x',_'z') + 1*edges_('y',_'t') + 4*edges_('y',_'x') + 6*edges_('y',_'z') + 3*edges_('z',_'s') + 7*edges_('z',_'x') + 0\n",
       "SUBJECT TO\n",
       "Flow_Conservation_in_Node_s: - edges_('s',_'t') - edges_('s',_'y')\n",
       " + edges_('z',_'s') = -1\n",
       "\n",
       "Flow_Conservation_in_Node_y: edges_('s',_'y') + edges_('t',_'y')\n",
       " - edges_('y',_'t') - edges_('y',_'x') - edges_('y',_'z') = 0\n",
       "\n",
       "Flow_Conservation_in_Node_x: edges_('t',_'x') - edges_('x',_'z')\n",
       " + edges_('y',_'x') + edges_('z',_'x') = 1\n",
       "\n",
       "Flow_Conservation_in_Node_t: edges_('s',_'t') - edges_('t',_'x')\n",
       " - edges_('t',_'y') + edges_('y',_'t') = 0\n",
       "\n",
       "Flow_Conservation_in_Node_z: edges_('x',_'z') + edges_('y',_'z')\n",
       " - edges_('z',_'s') - edges_('z',_'x') = 0\n",
       "\n",
       "VARIABLES\n",
       "0 <= edges_('s',_'t') <= 1 Integer\n",
       "0 <= edges_('s',_'y') <= 1 Integer\n",
       "0 <= edges_('t',_'x') <= 1 Integer\n",
       "0 <= edges_('t',_'y') <= 1 Integer\n",
       "0 <= edges_('x',_'z') <= 1 Integer\n",
       "0 <= edges_('y',_'t') <= 1 Integer\n",
       "0 <= edges_('y',_'x') <= 1 Integer\n",
       "0 <= edges_('y',_'z') <= 1 Integer\n",
       "0 <= edges_('z',_'s') <= 1 Integer\n",
       "0 <= edges_('z',_'x') <= 1 Integer"
      ]
     },
     "execution_count": 4,
     "metadata": {},
     "output_type": "execute_result"
    }
   ],
   "source": [
    "string = \"s y x t z\"\n",
    "nodes = string.split()\n",
    "cost = {(\"s\",\"t\"):3,\n",
    "        (\"s\",\"y\"):5,\n",
    "        (\"t\",\"x\"):6,\n",
    "        (\"t\",\"y\"):2,\n",
    "        (\"y\",\"t\"):1,\n",
    "        (\"y\",\"x\"):4,\n",
    "        (\"y\",\"z\"):6,\n",
    "        (\"z\",\"s\"):3,\n",
    "        (\"z\",\"x\"):7,\n",
    "        (\"x\",\"z\"):2}\n",
    "var = LpVariable.dicts(\"edges\",cost, lowBound=0,upBound=1,cat=LpInteger)\n",
    "prob = LpProblem(\"shortest path problem\", LpMinimize)\n",
    "prob += lpSum([var[a]* cost[a] for a in cost]), \"Total Cost of Path\"\n",
    "for n in nodes:\n",
    "    prob += ((n=='s')+ lpSum([var[(i,j)] for (i,j) in cost if j == n]) == \n",
    "            (n=='x')+ lpSum([var[(i,j)] for (i,j) in cost if i == n])),\\\n",
    "    \"Flow Conservation in Node %s\"%n\n",
    "prob.solve()\n",
    "print \"Shortest Path Total Cost = \", value(prob.objective)\n",
    "print \"the path from s to x is \"\n",
    "for a in cost:\n",
    "    if (int(var[a].varValue) != 0):\n",
    "        print a\n",
    "print \"Status:\", LpStatus[prob.status]\n",
    "prob"
   ]
  },
  {
   "cell_type": "code",
   "execution_count": null,
   "metadata": {
    "collapsed": true
   },
   "outputs": [],
   "source": []
  },
  {
   "cell_type": "code",
   "execution_count": null,
   "metadata": {
    "collapsed": true
   },
   "outputs": [],
   "source": []
  },
  {
   "cell_type": "markdown",
   "metadata": {
    "collapsed": true
   },
   "source": [
    "__3. Formulate to solve the coloring problem on the graph quiz (assume at most 6 colors), solve with lindo__\n",
    "\n"
   ]
  },
  {
   "cell_type": "markdown",
   "metadata": {},
   "source": [
    "![](http://snag.gy/qCNdq.jpg)"
   ]
  },
  {
   "cell_type": "markdown",
   "metadata": {},
   "source": [
    "minimum color used: 3"
   ]
  },
  {
   "cell_type": "code",
   "execution_count": 5,
   "metadata": {
    "collapsed": false
   },
   "outputs": [
    {
     "name": "stdout",
     "output_type": "stream",
     "text": [
      "Minimum number of color used = 3.0\n",
      "node 1 use color 2\n",
      "node 2 use color 5\n",
      "node 3 use color 6\n",
      "node 4 use color 2\n",
      "node 5 use color 6\n",
      "node 6 use color 5\n",
      "node 7 use color 5\n",
      "node 8 use color 2\n",
      "node 9 use color 6\n",
      "node 10 use color 6\n",
      "node 11 use color 2\n",
      "Status: Optimal\n"
     ]
    }
   ],
   "source": [
    "nc = 6 #max number of color\n",
    "n = 11 #number of nodes\n",
    "V = range(1,n+1) #set of nodes\n",
    "color = range(1,nc+1) #set of color\n",
    "E =   [[1, 2],\n",
    "       [1, 5],\n",
    "       [2, 4],\n",
    "       [2, 5],\n",
    "       [3, 6],\n",
    "       [3, 8],\n",
    "       [3, 7],\n",
    "       [3, 4],\n",
    "       [4, 5],\n",
    "       [4, 6],\n",
    "       [4, 7],\n",
    "       [5, 7],\n",
    "       [6, 8],\n",
    "       [7, 8],\n",
    "       [7, 9],\n",
    "       [8, 10],\n",
    "       [10, 11]]\n",
    "# vertically ordered nodes len(E) == 17\n",
    "# declare variables\n",
    "# x[i,c] = 1 means that node i is assigned color c\n",
    "x = LpVariable.dicts(\"x\",(V,color), lowBound=0,upBound=1,cat=LpInteger)\n",
    "all_possible_x = [(s,t) for s in V for t in color]\n",
    "# y[c] = 1 means that color c is used, i.e. assigned to some node\n",
    "y = LpVariable.dicts(\"y\",color,0,1,LpInteger)\n",
    "prob = LpProblem(\"minimum number of colors used\",LpMinimize)\n",
    "prob += lpSum([y[c] for c in color])\n",
    "# each node must be assigned exactly one color\n",
    "for i in V:\n",
    "    prob += lpSum([x[i][c] for c in color]) == 1, \"Node %s has been assigned one color\"%i\n",
    "    # adjacent nodes cannot be assigned the same color\n",
    "# because the index start with 0, so I have to do i-1\n",
    "for (i,j) in E:\n",
    "    for c in color:\n",
    "        prob += x[i][c] + x[j][c] <= 1,\"color %s isn't used in adjacent node %s and %s\" %(c,i,j)\n",
    "        # make sure color is used \n",
    "for c in color:\n",
    "    for i in V:\n",
    "        prob += x[i][c]<= y[c]\n",
    "prob.solve()\n",
    "print \"Minimum number of color used = %s\" %(value(prob.objective))\n",
    "for v in V:\n",
    "    print 'node %s' % v, 'use color',\n",
    "    for c in color:\n",
    "        if int(x[v][c].varValue) ==1:\n",
    "            print c\n",
    "\n",
    "print \"Status:\", LpStatus[prob.status]"
   ]
  },
  {
   "cell_type": "code",
   "execution_count": null,
   "metadata": {
    "collapsed": true
   },
   "outputs": [],
   "source": []
  },
  {
   "cell_type": "code",
   "execution_count": null,
   "metadata": {
    "collapsed": true
   },
   "outputs": [],
   "source": []
  },
  {
   "cell_type": "markdown",
   "metadata": {},
   "source": [
    "__4. We defined two grammars on page 3 and page 7. Determine the type of classification for each grammar__"
   ]
  },
  {
   "cell_type": "markdown",
   "metadata": {},
   "source": [
    "1. grammar in page 3 is type 2 becauselLeft hand side of each production is a single, nonterminal symbol and the right hand side consists of one or more terminal or nonterminal symbols (e.g., verbphrase $\\rightarrow$ (verb+adverb), and they are all nonterminate symbols, violating type 3).\n",
    "\n",
    "2. grammar in page 7 is type 2 becauselLeft hand side of each production is a single, nonterminal symbol and the right hand side consists of one or more terminal or nonterminal symbols (e.g., S $\\rightarrow$ (S+F) violates type 3)."
   ]
  },
  {
   "cell_type": "code",
   "execution_count": null,
   "metadata": {
    "collapsed": true
   },
   "outputs": [],
   "source": []
  },
  {
   "cell_type": "code",
   "execution_count": null,
   "metadata": {
    "collapsed": true
   },
   "outputs": [],
   "source": []
  },
  {
   "cell_type": "markdown",
   "metadata": {},
   "source": [
    "__5 Discuss the differences between LL and LR parsings.  Give two real-world examples for LL and LR__\n",
    "\n"
   ]
  },
  {
   "cell_type": "markdown",
   "metadata": {},
   "source": [
    "first real example: traversal of binary tree\n",
    "![](http://i.stack.imgur.com/QLYBe.png)\n",
    "\n",
    "LL: top-down parsing, find the leftmost(top most) symbol first and then parse level by level.\n",
    "    the output: + 1 * 2 3    (## pre-order traversal)\n",
    " \n",
    " \n",
    "LR: bottom-up parsing, find the rightmost(nearest) symbol first and then work its way upward.\n",
    "    the output: 1 2 3 * +    (## post-order traversal)\n"
   ]
  },
  {
   "cell_type": "markdown",
   "metadata": {},
   "source": [
    "second real example: Dangling else\n",
    "\n",
    "> if a then if b then s else s2 can be parsed in two different ways:\n",
    ">> if a then (if b then s) else s2 $\\tag{1}$\n",
    ">> if a then (if b then s else s2) $\\tag{2}$\n",
    "\n",
    "LL: top-down parsing, find the leftmost(top most) symbol first and then parse level by level.\n",
    "    Will choose the (1) since the first if is the top most symbols\n",
    " \n",
    " \n",
    "LR: bottom-up parsing, find the rightmost(nearest) symbol first and then work its way upward.\n",
    "    Will choose the (2) since it associate else with the nearest if.\n"
   ]
  },
  {
   "cell_type": "code",
   "execution_count": null,
   "metadata": {
    "collapsed": true
   },
   "outputs": [],
   "source": []
  },
  {
   "cell_type": "code",
   "execution_count": null,
   "metadata": {
    "collapsed": true
   },
   "outputs": [],
   "source": []
  },
  {
   "cell_type": "markdown",
   "metadata": {},
   "source": [
    "__6. Write out explicitly the linear program corresponding to finding the maximum flow in Figure 26.1(a).__"
   ]
  },
  {
   "cell_type": "markdown",
   "metadata": {},
   "source": [
    "![](http://snag.gy/hr6HE.jpg)"
   ]
  },
  {
   "cell_type": "markdown",
   "metadata": {},
   "source": [
    "the maxflow is 23\n",
    "vancouver to edmonton:  10.0\n",
    "vancouver to calgary:   13.0\n",
    "edmonton  to saskatoon: 12.0\n",
    "calgary to edmonton:    2.0\n",
    "calgary to regina:      11.0\n",
    "saskatoon to winnipeg:  19.0\n",
    "saskatoon to calgary:   0.0\n",
    "regina to winnipeg:     4.0\n",
    "regina to saskatoon:    7.0"
   ]
  },
  {
   "cell_type": "code",
   "execution_count": 6,
   "metadata": {
    "collapsed": false
   },
   "outputs": [
    {
     "name": "stdout",
     "output_type": "stream",
     "text": [
      "('objective=', 23.0)\n",
      "(\"edges_('s',_'v1')\", '=', 10.0)\n",
      "(\"edges_('s',_'v2')\", '=', 13.0)\n",
      "(\"edges_('v1',_'v3')\", '=', 12.0)\n",
      "(\"edges_('v2',_'v1')\", '=', 2.0)\n",
      "(\"edges_('v2',_'v4')\", '=', 11.0)\n",
      "(\"edges_('v3',_'t')\", '=', 19.0)\n",
      "(\"edges_('v3',_'v2')\", '=', 0.0)\n",
      "(\"edges_('v4',_'t')\", '=', 4.0)\n",
      "(\"edges_('v4',_'v3')\", '=', 7.0)\n",
      "Status: Optimal\n"
     ]
    },
    {
     "data": {
      "text/plain": [
       "max flow problem:\n",
       "MAXIMIZE\n",
       "1*edges_('s',_'v1') + 1*edges_('s',_'v2') + 0\n",
       "SUBJECT TO\n",
       "_C1: edges_('v3',_'v2') <= 9\n",
       "\n",
       "_C2: edges_('v1',_'v3') <= 12\n",
       "\n",
       "_C3: edges_('v2',_'v1') <= 4\n",
       "\n",
       "_C4: edges_('v4',_'v3') <= 7\n",
       "\n",
       "_C5: edges_('s',_'v2') <= 13\n",
       "\n",
       "_C6: edges_('v4',_'t') <= 4\n",
       "\n",
       "_C7: edges_('v2',_'v4') <= 14\n",
       "\n",
       "_C8: edges_('s',_'v1') <= 16\n",
       "\n",
       "_C9: edges_('v3',_'t') <= 20\n",
       "\n",
       "Node_v1: edges_('s',_'v1') - edges_('v1',_'v3') + edges_('v2',_'v1') = 0\n",
       "\n",
       "Node_v2: edges_('s',_'v2') - edges_('v2',_'v1') - edges_('v2',_'v4')\n",
       " + edges_('v3',_'v2') = 0\n",
       "\n",
       "Node_v3: edges_('v1',_'v3') - edges_('v3',_'t') - edges_('v3',_'v2')\n",
       " + edges_('v4',_'v3') = 0\n",
       "\n",
       "Node_v4: edges_('v2',_'v4') - edges_('v4',_'t') - edges_('v4',_'v3') = 0\n",
       "\n",
       "VARIABLES\n",
       "edges_('s',_'v1') Continuous\n",
       "edges_('s',_'v2') Continuous\n",
       "edges_('v1',_'v3') Continuous\n",
       "edges_('v2',_'v1') Continuous\n",
       "edges_('v2',_'v4') Continuous\n",
       "edges_('v3',_'t') Continuous\n",
       "edges_('v3',_'v2') Continuous\n",
       "edges_('v4',_'t') Continuous\n",
       "edges_('v4',_'v3') Continuous"
      ]
     },
     "execution_count": 6,
     "metadata": {},
     "output_type": "execute_result"
    }
   ],
   "source": [
    "string = \"s v1 v2 v3 v4 t\"\n",
    "nodes = string.split()\n",
    "capacity = {(\"s\",\"v1\"):16,\n",
    "        (\"s\",\"v2\"):13,\n",
    "        (\"v1\",\"v3\"):12,\n",
    "        (\"v2\",\"v1\"):4,\n",
    "        (\"v2\",\"v4\"):14,\n",
    "        (\"v3\",\"v2\"):9,\n",
    "        (\"v3\",\"t\"):20,\n",
    "        (\"v4\",\"v3\"):7,\n",
    "        (\"v4\",\"t\"):4}\n",
    "var = LpVariable.dicts(\"edges\",capacity, lowBound=0,cat=LpContinuous)\n",
    "prob = LpProblem(\"max flow problem\", LpMaximize)\n",
    "prob += lpSum([var[(i,j)] for (i,j) in var if i == 's']), \"Total Cost of Path\"\n",
    "# constraint 1: capacity\n",
    "for a in capacity:\n",
    "    prob += var[a] <= capacity[a]\n",
    "# constraint 2: in == out\n",
    "for n in nodes: \n",
    "    if not n.startswith('s') and not n.startswith('t'):\n",
    "        prob += (lpSum([var[(i,j)] for (i,j) in var if j == n]) == \n",
    "                 lpSum([var[(i,j)] for (i,j) in var if i == n])),\\\n",
    "        \"Node %s\"%n\n",
    "prob.solve()\n",
    "print(\"objective=\", value(prob.objective))\n",
    "for v in prob.variables():\n",
    "    print(v.name, \"=\", v.varValue)\n",
    "print \"Status:\", LpStatus[prob.status]\n",
    "prob"
   ]
  },
  {
   "cell_type": "code",
   "execution_count": null,
   "metadata": {
    "collapsed": true
   },
   "outputs": [],
   "source": []
  },
  {
   "cell_type": "code",
   "execution_count": null,
   "metadata": {
    "collapsed": true
   },
   "outputs": [],
   "source": []
  },
  {
   "cell_type": "markdown",
   "metadata": {},
   "source": [
    "__7 Prove that if G is an undirected bipartite graph with an odd number of vertices, then G is nonhamiltonian.__"
   ]
  },
  {
   "cell_type": "markdown",
   "metadata": {
    "collapsed": true
   },
   "source": [
    "Suppose G is biparate graph and it is Hamiltonian. \n",
    "\n",
    "Since G is Hamiltonian, G has Hamiltonian cycle: we can find a cycle goes through all the vertices in G and never repeat. \n",
    "\n",
    "Since G is a bipartite graph (suppose left set is A and right set is B), every edge connects a vertex in A to one in B\n",
    "\n",
    "If G has odd number of vertices, then $|A| \\neq |B|$. Suppose $|A| = m \\ and \\ |B| = n \\ and \\ m > n$. Suppose we start from a node in B and after traversing $2n$ vertices, it will go back to where it starts but there would still be $m-n$ vertices left in set A that haven't be connected. Therefore, this proved that G cannot be hamltonian."
   ]
  },
  {
   "cell_type": "code",
   "execution_count": null,
   "metadata": {
    "collapsed": true
   },
   "outputs": [],
   "source": []
  },
  {
   "cell_type": "code",
   "execution_count": null,
   "metadata": {
    "collapsed": true
   },
   "outputs": [],
   "source": []
  },
  {
   "cell_type": "markdown",
   "metadata": {},
   "source": [
    "__9 Let 2-CNF-SAT be the set of satisfiable boolean formulas in CNF with exactly 2\n",
    "literals per clause. Show that 2-CNF-SAT $\\in$ P. Make your algorithm as efficient as\n",
    "possible.__"
   ]
  },
  {
   "cell_type": "markdown",
   "metadata": {},
   "source": [
    "It's done in the next homework"
   ]
  },
  {
   "cell_type": "code",
   "execution_count": null,
   "metadata": {
    "collapsed": true
   },
   "outputs": [],
   "source": []
  },
  {
   "cell_type": "code",
   "execution_count": null,
   "metadata": {
    "collapsed": true
   },
   "outputs": [],
   "source": []
  },
  {
   "cell_type": "markdown",
   "metadata": {},
   "source": [
    "__10. finish the following__"
   ]
  },
  {
   "cell_type": "markdown",
   "metadata": {},
   "source": [
    " a) Find a regular expression for the set of strings over {a,b} that does not contain the substring aaa. Give the FSM.\n",
    "\n",
    "sol: $(b \\vee ab \\vee aab)^∗ (a \\vee aa \\vee \\lambda)$"
   ]
  },
  {
   "cell_type": "markdown",
   "metadata": {},
   "source": [
    "b) The set of binary strings with every 1 followed by two 0s.\n",
    "\n",
    "sol: $0^* ( 100 \\vee 0 )^*$"
   ]
  },
  {
   "cell_type": "markdown",
   "metadata": {},
   "source": [
    "c) The set of binary strings ending in 00 and not containing 11.\n",
    "\n",
    "sol: $0^* ( 10 \\vee 0 )^* 00$"
   ]
  },
  {
   "cell_type": "markdown",
   "metadata": {},
   "source": [
    "d)  The set of binary strings containing an even number of 1s.\n",
    "\n",
    "sol: $( 0^* 10^* 10^* )^*$"
   ]
  },
  {
   "cell_type": "code",
   "execution_count": null,
   "metadata": {
    "collapsed": true
   },
   "outputs": [],
   "source": []
  },
  {
   "cell_type": "code",
   "execution_count": null,
   "metadata": {
    "collapsed": true
   },
   "outputs": [],
   "source": []
  }
 ],
 "metadata": {
  "kernelspec": {
   "display_name": "Python 2",
   "language": "python",
   "name": "python2"
  },
  "language_info": {
   "codemirror_mode": {
    "name": "ipython",
    "version": 2
   },
   "file_extension": ".py",
   "mimetype": "text/x-python",
   "name": "python",
   "nbconvert_exporter": "python",
   "pygments_lexer": "ipython2",
   "version": "2.7.10"
  }
 },
 "nbformat": 4,
 "nbformat_minor": 0
}
