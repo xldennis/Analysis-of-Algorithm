{
 "cells": [
  {
   "cell_type": "code",
   "execution_count": 2,
   "metadata": {
    "collapsed": true
   },
   "outputs": [],
   "source": [
    "from pulp import *"
   ]
  },
  {
   "cell_type": "code",
   "execution_count": 119,
   "metadata": {
    "collapsed": false
   },
   "outputs": [],
   "source": [
    "string = \"s v1 v2 v3 v4 t\"\n",
    "nodes = string.split()\n",
    "capacity = {(\"s\",\"v1\"):16,\n",
    "        (\"s\",\"v2\"):13,\n",
    "        (\"v1\",\"v3\"):12,\n",
    "        (\"v2\",\"v1\"):4,\n",
    "        (\"v2\",\"v4\"):14,\n",
    "        (\"v3\",\"v2\"):9,\n",
    "        (\"v3\",\"t\"):20,\n",
    "        (\"v4\",\"v3\"):7,\n",
    "        (\"v4\",\"t\"):4}\n",
    "var = LpVariable.dicts(\"edges\",capacity, lowBound=0,cat=LpContinuous)"
   ]
  },
  {
   "cell_type": "code",
   "execution_count": 120,
   "metadata": {
    "collapsed": false
   },
   "outputs": [],
   "source": [
    "prob = LpProblem(\"max flow problem\", LpMaximize)\n",
    "prob += lpSum([var[(i,j)] for (i,j) in var if i == 's']), \"Total Cost of Path\""
   ]
  },
  {
   "cell_type": "code",
   "execution_count": 121,
   "metadata": {
    "collapsed": false
   },
   "outputs": [],
   "source": [
    "# constraint 1: capacity\n",
    "for a in capacity:\n",
    "    prob += var[a] <= capacity[a]"
   ]
  },
  {
   "cell_type": "code",
   "execution_count": 122,
   "metadata": {
    "collapsed": false
   },
   "outputs": [],
   "source": [
    "# constraint 2: in == out\n",
    "\n",
    "for n in nodes: \n",
    "    if not n.startswith('s') and not n.startswith('t'):\n",
    "        prob += (lpSum([var[(i,j)] for (i,j) in var if j == n]) == \n",
    "                 lpSum([var[(i,j)] for (i,j) in var if i == n])),\\\n",
    "        \"Node %s\"%n"
   ]
  },
  {
   "cell_type": "code",
   "execution_count": 123,
   "metadata": {
    "collapsed": false
   },
   "outputs": [],
   "source": [
    "# Write the problem as an LP file\n",
    "prob.writeLP(\"maxflow.lp\")"
   ]
  },
  {
   "cell_type": "code",
   "execution_count": 124,
   "metadata": {
    "collapsed": false
   },
   "outputs": [
    {
     "data": {
      "text/plain": [
       "max flow problem:\n",
       "MAXIMIZE\n",
       "1*edges_('s',_'v1') + 1*edges_('s',_'v2') + 0\n",
       "SUBJECT TO\n",
       "_C1: edges_('v3',_'v2') <= 9\n",
       "\n",
       "_C2: edges_('v1',_'v3') <= 12\n",
       "\n",
       "_C3: edges_('v2',_'v1') <= 4\n",
       "\n",
       "_C4: edges_('v4',_'v3') <= 7\n",
       "\n",
       "_C5: edges_('s',_'v2') <= 13\n",
       "\n",
       "_C6: edges_('v4',_'t') <= 4\n",
       "\n",
       "_C7: edges_('v2',_'v4') <= 14\n",
       "\n",
       "_C8: edges_('s',_'v1') <= 16\n",
       "\n",
       "_C9: edges_('v3',_'t') <= 20\n",
       "\n",
       "Node_v1: edges_('s',_'v1') - edges_('v1',_'v3') + edges_('v2',_'v1') = 0\n",
       "\n",
       "Node_v2: edges_('s',_'v2') - edges_('v2',_'v1') - edges_('v2',_'v4')\n",
       " + edges_('v3',_'v2') = 0\n",
       "\n",
       "Node_v3: edges_('v1',_'v3') - edges_('v3',_'t') - edges_('v3',_'v2')\n",
       " + edges_('v4',_'v3') = 0\n",
       "\n",
       "Node_v4: edges_('v2',_'v4') - edges_('v4',_'t') - edges_('v4',_'v3') = 0\n",
       "\n",
       "VARIABLES\n",
       "edges_('s',_'v1') Continuous\n",
       "edges_('s',_'v2') Continuous\n",
       "edges_('v1',_'v3') Continuous\n",
       "edges_('v2',_'v1') Continuous\n",
       "edges_('v2',_'v4') Continuous\n",
       "edges_('v3',_'t') Continuous\n",
       "edges_('v3',_'v2') Continuous\n",
       "edges_('v4',_'t') Continuous\n",
       "edges_('v4',_'v3') Continuous"
      ]
     },
     "execution_count": 124,
     "metadata": {},
     "output_type": "execute_result"
    }
   ],
   "source": [
    "prob"
   ]
  },
  {
   "cell_type": "code",
   "execution_count": 126,
   "metadata": {
    "collapsed": false
   },
   "outputs": [
    {
     "name": "stdout",
     "output_type": "stream",
     "text": [
      "(\"edges_('s',_'v1')\", '=', 10.0)\n",
      "(\"edges_('s',_'v2')\", '=', 13.0)\n",
      "(\"edges_('v1',_'v3')\", '=', 12.0)\n",
      "(\"edges_('v2',_'v1')\", '=', 2.0)\n",
      "(\"edges_('v2',_'v4')\", '=', 11.0)\n",
      "(\"edges_('v3',_'t')\", '=', 19.0)\n",
      "(\"edges_('v3',_'v2')\", '=', 0.0)\n",
      "(\"edges_('v4',_'t')\", '=', 4.0)\n",
      "(\"edges_('v4',_'v3')\", '=', 7.0)\n"
     ]
    }
   ],
   "source": [
    "for v in prob.variables():\n",
    "    print(v.name, \"=\", v.varValue)"
   ]
  },
  {
   "cell_type": "code",
   "execution_count": 127,
   "metadata": {
    "collapsed": false
   },
   "outputs": [
    {
     "name": "stdout",
     "output_type": "stream",
     "text": [
      "('objective=', 23.0)\n"
     ]
    }
   ],
   "source": [
    "print(\"objective=\", value(prob.objective))\n"
   ]
  },
  {
   "cell_type": "code",
   "execution_count": null,
   "metadata": {
    "collapsed": true
   },
   "outputs": [],
   "source": []
  },
  {
   "cell_type": "code",
   "execution_count": null,
   "metadata": {
    "collapsed": true
   },
   "outputs": [],
   "source": []
  }
 ],
 "metadata": {
  "kernelspec": {
   "display_name": "Python 2",
   "language": "python",
   "name": "python2"
  },
  "language_info": {
   "codemirror_mode": {
    "name": "ipython",
    "version": 2
   },
   "file_extension": ".py",
   "mimetype": "text/x-python",
   "name": "python",
   "nbconvert_exporter": "python",
   "pygments_lexer": "ipython2",
   "version": "2.7.10"
  }
 },
 "nbformat": 4,
 "nbformat_minor": 0
}
